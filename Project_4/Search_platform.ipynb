{
 "cells": [
  {
   "cell_type": "code",
   "execution_count": 1,
   "metadata": {},
   "outputs": [],
   "source": [
    "# read data\n",
    "import pandas as pd\n",
    "choc = pd.read_csv('HeavenlyChocolates.csv')"
   ]
  },
  {
   "cell_type": "code",
   "execution_count": 2,
   "metadata": {},
   "outputs": [
    {
     "data": {
      "text/html": [
       "<div>\n",
       "<style scoped>\n",
       "    .dataframe tbody tr th:only-of-type {\n",
       "        vertical-align: middle;\n",
       "    }\n",
       "\n",
       "    .dataframe tbody tr th {\n",
       "        vertical-align: top;\n",
       "    }\n",
       "\n",
       "    .dataframe thead th {\n",
       "        text-align: right;\n",
       "    }\n",
       "</style>\n",
       "<table border=\"1\" class=\"dataframe\">\n",
       "  <thead>\n",
       "    <tr style=\"text-align: right;\">\n",
       "      <th></th>\n",
       "      <th>Customer</th>\n",
       "      <th>Day</th>\n",
       "      <th>Browser</th>\n",
       "      <th>Time</th>\n",
       "      <th>Pages_Viewed</th>\n",
       "      <th>Amount_Spent</th>\n",
       "    </tr>\n",
       "  </thead>\n",
       "  <tbody>\n",
       "    <tr>\n",
       "      <th>0</th>\n",
       "      <td>1</td>\n",
       "      <td>Mon</td>\n",
       "      <td>Chrome</td>\n",
       "      <td>12.0</td>\n",
       "      <td>4</td>\n",
       "      <td>54.52</td>\n",
       "    </tr>\n",
       "    <tr>\n",
       "      <th>1</th>\n",
       "      <td>2</td>\n",
       "      <td>Wed</td>\n",
       "      <td>Other</td>\n",
       "      <td>19.5</td>\n",
       "      <td>6</td>\n",
       "      <td>94.90</td>\n",
       "    </tr>\n",
       "    <tr>\n",
       "      <th>2</th>\n",
       "      <td>3</td>\n",
       "      <td>Mon</td>\n",
       "      <td>Chrome</td>\n",
       "      <td>8.5</td>\n",
       "      <td>4</td>\n",
       "      <td>26.68</td>\n",
       "    </tr>\n",
       "    <tr>\n",
       "      <th>3</th>\n",
       "      <td>4</td>\n",
       "      <td>Tue</td>\n",
       "      <td>Firefox</td>\n",
       "      <td>11.4</td>\n",
       "      <td>2</td>\n",
       "      <td>44.73</td>\n",
       "    </tr>\n",
       "    <tr>\n",
       "      <th>4</th>\n",
       "      <td>5</td>\n",
       "      <td>Wed</td>\n",
       "      <td>Chrome</td>\n",
       "      <td>11.3</td>\n",
       "      <td>4</td>\n",
       "      <td>66.27</td>\n",
       "    </tr>\n",
       "  </tbody>\n",
       "</table>\n",
       "</div>"
      ],
      "text/plain": [
       "   Customer  Day  Browser  Time  Pages_Viewed  Amount_Spent\n",
       "0         1  Mon   Chrome  12.0             4         54.52\n",
       "1         2  Wed    Other  19.5             6         94.90\n",
       "2         3  Mon   Chrome   8.5             4         26.68\n",
       "3         4  Tue  Firefox  11.4             2         44.73\n",
       "4         5  Wed   Chrome  11.3             4         66.27"
      ]
     },
     "execution_count": 2,
     "metadata": {},
     "output_type": "execute_result"
    }
   ],
   "source": [
    "##observe data\n",
    "choc.head()"
   ]
  },
  {
   "cell_type": "code",
   "execution_count": 12,
   "metadata": {},
   "outputs": [
    {
     "data": {
      "text/html": [
       "<div>\n",
       "<style scoped>\n",
       "    .dataframe tbody tr th:only-of-type {\n",
       "        vertical-align: middle;\n",
       "    }\n",
       "\n",
       "    .dataframe tbody tr th {\n",
       "        vertical-align: top;\n",
       "    }\n",
       "\n",
       "    .dataframe thead th {\n",
       "        text-align: right;\n",
       "    }\n",
       "</style>\n",
       "<table border=\"1\" class=\"dataframe\">\n",
       "  <thead>\n",
       "    <tr style=\"text-align: right;\">\n",
       "      <th></th>\n",
       "      <th>Browser</th>\n",
       "      <th>Count</th>\n",
       "    </tr>\n",
       "  </thead>\n",
       "  <tbody>\n",
       "    <tr>\n",
       "      <th>0</th>\n",
       "      <td>Chrome</td>\n",
       "      <td>27</td>\n",
       "    </tr>\n",
       "    <tr>\n",
       "      <th>1</th>\n",
       "      <td>Firefox</td>\n",
       "      <td>16</td>\n",
       "    </tr>\n",
       "    <tr>\n",
       "      <th>2</th>\n",
       "      <td>Other</td>\n",
       "      <td>7</td>\n",
       "    </tr>\n",
       "  </tbody>\n",
       "</table>\n",
       "</div>"
      ],
      "text/plain": [
       "   Browser  Count\n",
       "0   Chrome     27\n",
       "1  Firefox     16\n",
       "2    Other      7"
      ]
     },
     "execution_count": 12,
     "metadata": {},
     "output_type": "execute_result"
    }
   ],
   "source": [
    "'''\n",
    "1.Using the techniques we have learned in class so far (i.e. DON’T use groupby() method),\n",
    "create a dataframe that shows the number of visits to Heavenly Chocoloate’s website using different\n",
    "browsers. Your output should be similar to the following table.\n",
    "'''\n",
    "chrome_view = 0\n",
    "firefox_view = 0\n",
    "other_view = 0\n",
    "for i in choc['Browser']:\n",
    "    if i == 'Chrome':\n",
    "        chrome_view = chrome_view +1\n",
    "    if i == 'Firefox':\n",
    "        firefox_view =firefox_view +1\n",
    "    if i == 'Other':\n",
    "        other_view =other_view+1\n",
    "\n",
    "web_view = {'Browser':['Chrome','Firefox','Other'],'Count':[chrome_view,firefox_view,other_view]}\n",
    "web=pd.DataFrame(web_view)\n",
    "web"
   ]
  },
  {
   "cell_type": "code",
   "execution_count": 6,
   "metadata": {},
   "outputs": [
    {
     "data": {
      "image/png": "[encoded data removed]",
      "text/plain": [
       "<Figure size 432x288 with 1 Axes>"
      ]
     },
     "metadata": {
      "needs_background": "light"
     },
     "output_type": "display_data"
    }
   ],
   "source": [
    "'''\n",
    "2.Create a duplicate of the following graph to show which browser is used more by the 1\n",
    "Heavenly Chocolate website visitors? The dashed line represents the mean of count visits for all browsers\n",
    "in the dataset.\n",
    "'''\n",
    "import matplotlib.pyplot as plt\n",
    "plt.figure()\n",
    "plt.bar(web.Browser,web.Count)\n",
    "plt.axhline(y=web.Count.mean(), color='red',linestyle='--', label='Average Line')\n",
    "plt.ylabel('Count')\n",
    "plt.title('Browsers Used to Visit Heavenly Chocolate Website')\n",
    "plt.legend()\n",
    "plt.show()"
   ]
  },
  {
   "cell_type": "code",
   "execution_count": 7,
   "metadata": {},
   "outputs": [
    {
     "data": {
      "text/plain": [
       "[]"
      ]
     },
     "execution_count": 7,
     "metadata": {},
     "output_type": "execute_result"
    },
    {
     "data": {
      "image/png": "[encoded data removed]",
      "text/plain": [
       "<Figure size 504x360 with 1 Axes>"
      ]
     },
     "metadata": {
      "needs_background": "light"
     },
     "output_type": "display_data"
    }
   ],
   "source": [
    "'''\n",
    "3.Create an duplicate of the following scatterplot that shows the relationship between the\n",
    "time spent browsing, and the amount spent buying using either Firefox or Chrome browswers. What\n",
    "does this plot tell you about the company’s revenues using both channels?\n",
    "'''\n",
    "plt.figure(figsize=(7,5))\n",
    "chrome = choc[choc['Browser']=='Chrome']\n",
    "firefox = choc[choc['Browser']=='Firefox']\n",
    "plt.scatter(chrome.Time,chrome.Amount_Spent,color='blue',label='Chrome')\n",
    "plt.scatter(firefox.Time, firefox.Amount_Spent,color='red',label='Firefox')\n",
    "plt.axvline(x=chrome.Time.mean(),color='blue',linestyle='--', label='Average',linewidth=0.5)\n",
    "plt.axvline(x=firefox.Time.mean(),color='red',linestyle='--', linewidth=0.5)\n",
    "plt.axhline(y=chrome.Amount_Spent.mean(),color='blue',linestyle='--', linewidth=0.5)\n",
    "plt.axhline(y=firefox.Amount_Spent.mean(),color='red',linestyle='--', linewidth=0.5)\n",
    "plt.xlim((0,45))\n",
    "plt.ylim((0,170))\n",
    "plt.xlabel('Time')\n",
    "plt.ylabel('Amount Spent')\n",
    "plt.title('Relationship between time spent browsing and amount Spent')\n",
    "plt.legend(loc=4)\n",
    "plt.plot()"
   ]
  },
  {
   "cell_type": "code",
   "execution_count": 8,
   "metadata": {},
   "outputs": [
    {
     "data": {
      "text/html": [
       "<div>\n",
       "<style scoped>\n",
       "    .dataframe tbody tr th:only-of-type {\n",
       "        vertical-align: middle;\n",
       "    }\n",
       "\n",
       "    .dataframe tbody tr th {\n",
       "        vertical-align: top;\n",
       "    }\n",
       "\n",
       "    .dataframe thead th {\n",
       "        text-align: right;\n",
       "    }\n",
       "</style>\n",
       "<table border=\"1\" class=\"dataframe\">\n",
       "  <thead>\n",
       "    <tr style=\"text-align: right;\">\n",
       "      <th></th>\n",
       "      <th>Day</th>\n",
       "      <th>Visit Count</th>\n",
       "    </tr>\n",
       "  </thead>\n",
       "  <tbody>\n",
       "    <tr>\n",
       "      <th>0</th>\n",
       "      <td>Mon</td>\n",
       "      <td>2</td>\n",
       "    </tr>\n",
       "    <tr>\n",
       "      <th>1</th>\n",
       "      <td>Tue</td>\n",
       "      <td>2</td>\n",
       "    </tr>\n",
       "    <tr>\n",
       "      <th>2</th>\n",
       "      <td>Wed</td>\n",
       "      <td>1</td>\n",
       "    </tr>\n",
       "    <tr>\n",
       "      <th>3</th>\n",
       "      <td>Thu</td>\n",
       "      <td>1</td>\n",
       "    </tr>\n",
       "    <tr>\n",
       "      <th>4</th>\n",
       "      <td>Fri</td>\n",
       "      <td>6</td>\n",
       "    </tr>\n",
       "    <tr>\n",
       "      <th>5</th>\n",
       "      <td>Sat</td>\n",
       "      <td>3</td>\n",
       "    </tr>\n",
       "    <tr>\n",
       "      <th>6</th>\n",
       "      <td>Sun</td>\n",
       "      <td>1</td>\n",
       "    </tr>\n",
       "  </tbody>\n",
       "</table>\n",
       "</div>"
      ],
      "text/plain": [
       "   Day  Visit Count\n",
       "0  Mon            2\n",
       "1  Tue            2\n",
       "2  Wed            1\n",
       "3  Thu            1\n",
       "4  Fri            6\n",
       "5  Sat            3\n",
       "6  Sun            1"
      ]
     },
     "execution_count": 8,
     "metadata": {},
     "output_type": "execute_result"
    }
   ],
   "source": [
    "'''\n",
    "4. Create the following chart which shows the number of website visitors per day for people\n",
    "using Chrome or Firefox\n",
    "'''\n",
    "chrome = choc[choc['Browser']=='Chrome']\n",
    "firefox = choc[choc['Browser']=='Firefox']\n",
    "weekly = ['Mon',\"Tue\",'Wed','Thu','Fri','Sat','Sun']\n",
    "c_list=[]\n",
    "f_list = []\n",
    "for i in weekly:\n",
    "    c_list.append(chrome[chrome['Day']==i]['Customer'].count())\n",
    "for i in weekly:\n",
    "    f_list.append(firefox[firefox['Day']==i]['Customer'].count())\n",
    "\n",
    "\n",
    "chrome_view = {'Day':weekly,'Visit Count':c_list}\n",
    "firefox_view = {'Day':weekly,'Visit Count':f_list}\n",
    "\n",
    "chrome_visit =pd.DataFrame(chrome_view)\n",
    "firefox_visit = pd.DataFrame(firefox_view)\n",
    "firefox_visit"
   ]
  },
  {
   "cell_type": "code",
   "execution_count": 10,
   "metadata": {},
   "outputs": [
    {
     "data": {
      "image/png": "[encoded data removed]",
      "text/plain": [
       "<Figure size 432x288 with 1 Axes>"
      ]
     },
     "metadata": {
      "needs_background": "light"
     },
     "output_type": "display_data"
    }
   ],
   "source": [
    "import numpy as np\n",
    "plt.figure()\n",
    "pos = np.arange(len(chrome_visit.Day))\n",
    "barwidth= 0.3\n",
    "plt.bar(pos-barwidth/2, chrome_visit['Visit Count'], width =barwidth, color='blue',label='Chrome')\n",
    "plt.bar(pos+barwidth/2, firefox_visit['Visit Count'], width =barwidth, color='red',label='Firefox')\n",
    "\n",
    "plt.legend()\n",
    "ax =plt.gca()\n",
    "ax.set_xticklabels(['Nan','Mon','Tue','Wed','Thu','Fri','Sat', 'Sun'])\n",
    "plt.ylabel('Count')\n",
    "plt.title('Number of website visitors per day')\n",
    "plt.show()"
   ]
  },
  {
   "cell_type": "code",
   "execution_count": null,
   "metadata": {},
   "outputs": [],
   "source": []
  }
 ],
 "metadata": {
  "kernelspec": {
   "display_name": "Python 3",
   "language": "python",
   "name": "python3"
  },
  "language_info": {
   "codemirror_mode": {
    "name": "ipython",
    "version": 3
   },
   "file_extension": ".py",
   "mimetype": "text/x-python",
   "name": "python",
   "nbconvert_exporter": "python",
   "pygments_lexer": "ipython3",
   "version": "3.7.3"
  }
 },
 "nbformat": 4,
 "nbformat_minor": 2
}
